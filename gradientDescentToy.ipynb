{
 "cells": [
  {
   "cell_type": "code",
   "execution_count": null,
   "id": "ae0cde93",
   "metadata": {},
   "outputs": [],
   "source": [
    "#In this convergence condition is not applied"
   ]
  },
  {
   "cell_type": "markdown",
   "id": "dc408a7b",
   "metadata": {},
   "source": [
    "# Gradient Descent Algorithm\n",
    "\n",
    "It is an Optimization algorithm.\n",
    "\n",
    "Almost every ML algo uses it.\n",
    "\n",
    "Here we will learn, how gradient descen can be used in algorithms like linear regression and how can they be scaled to large datasets."
   ]
  },
  {
   "cell_type": "code",
   "execution_count": 1,
   "id": "ee1797a1",
   "metadata": {},
   "outputs": [],
   "source": [
    "#Gradient descent is an optimization algo used to find the values of parameters\n",
    "#(coefficients) of a function (f) that minimizes the cost function (cost).\n",
    "\n",
    "#Gradient descent is best used when the parameters cannot be calculated analyti\n",
    "#-cally (eg using linear algebra) and must be searched for by and optimiztion\n",
    "#algo\n",
    "\n"
   ]
  },
  {
   "cell_type": "markdown",
   "id": "00320606",
   "metadata": {},
   "source": [
    "# Intuition"
   ]
  },
  {
   "cell_type": "code",
   "execution_count": 2,
   "id": "424133a3",
   "metadata": {},
   "outputs": [],
   "source": [
    "import numpy as np\n",
    "import pandas as pd\n",
    "import matplotlib.pyplot as plt\n",
    "from matplotlib import style\n",
    "style.use('fivethirtyeight')\n",
    "import warnings\n",
    "warnings.filterwarnings(\"ignore\")"
   ]
  },
  {
   "cell_type": "code",
   "execution_count": 3,
   "id": "d810d90e",
   "metadata": {},
   "outputs": [],
   "source": [
    "salary_dataset = pd.read_csv('salary.csv')"
   ]
  },
  {
   "cell_type": "code",
   "execution_count": 4,
   "id": "50652314",
   "metadata": {},
   "outputs": [
    {
     "data": {
      "text/html": [
       "<div>\n",
       "<style scoped>\n",
       "    .dataframe tbody tr th:only-of-type {\n",
       "        vertical-align: middle;\n",
       "    }\n",
       "\n",
       "    .dataframe tbody tr th {\n",
       "        vertical-align: top;\n",
       "    }\n",
       "\n",
       "    .dataframe thead th {\n",
       "        text-align: right;\n",
       "    }\n",
       "</style>\n",
       "<table border=\"1\" class=\"dataframe\">\n",
       "  <thead>\n",
       "    <tr style=\"text-align: right;\">\n",
       "      <th></th>\n",
       "      <th>YearsExperience</th>\n",
       "      <th>Salary</th>\n",
       "      <th>age</th>\n",
       "      <th>company_change</th>\n",
       "      <th>type</th>\n",
       "    </tr>\n",
       "  </thead>\n",
       "  <tbody>\n",
       "    <tr>\n",
       "      <th>0</th>\n",
       "      <td>1.1</td>\n",
       "      <td>39343</td>\n",
       "      <td>21</td>\n",
       "      <td>1</td>\n",
       "      <td>junior</td>\n",
       "    </tr>\n",
       "    <tr>\n",
       "      <th>1</th>\n",
       "      <td>1.3</td>\n",
       "      <td>46205</td>\n",
       "      <td>31</td>\n",
       "      <td>0</td>\n",
       "      <td>middle</td>\n",
       "    </tr>\n",
       "    <tr>\n",
       "      <th>2</th>\n",
       "      <td>1.5</td>\n",
       "      <td>37731</td>\n",
       "      <td>29</td>\n",
       "      <td>1</td>\n",
       "      <td>middle</td>\n",
       "    </tr>\n",
       "    <tr>\n",
       "      <th>3</th>\n",
       "      <td>2.0</td>\n",
       "      <td>43525</td>\n",
       "      <td>30</td>\n",
       "      <td>1</td>\n",
       "      <td>middle</td>\n",
       "    </tr>\n",
       "    <tr>\n",
       "      <th>4</th>\n",
       "      <td>2.2</td>\n",
       "      <td>39891</td>\n",
       "      <td>27</td>\n",
       "      <td>1</td>\n",
       "      <td>middle</td>\n",
       "    </tr>\n",
       "  </tbody>\n",
       "</table>\n",
       "</div>"
      ],
      "text/plain": [
       "   YearsExperience  Salary  age  company_change    type\n",
       "0              1.1   39343   21               1  junior\n",
       "1              1.3   46205   31               0  middle\n",
       "2              1.5   37731   29               1  middle\n",
       "3              2.0   43525   30               1  middle\n",
       "4              2.2   39891   27               1  middle"
      ]
     },
     "execution_count": 4,
     "metadata": {},
     "output_type": "execute_result"
    }
   ],
   "source": [
    "salary_dataset.head()"
   ]
  },
  {
   "cell_type": "code",
   "execution_count": 6,
   "id": "c6261ff7",
   "metadata": {},
   "outputs": [],
   "source": [
    "x = np.array(salary_dataset['YearsExperience'])\n",
    "y = np.array(salary_dataset['Salary'])\n",
    "l = len(x)"
   ]
  },
  {
   "cell_type": "code",
   "execution_count": 7,
   "id": "e8d57c2c",
   "metadata": {},
   "outputs": [
    {
     "data": {
      "text/plain": [
       "30"
      ]
     },
     "execution_count": 7,
     "metadata": {},
     "output_type": "execute_result"
    }
   ],
   "source": [
    "l"
   ]
  },
  {
   "cell_type": "code",
   "execution_count": 8,
   "id": "a78a50f3",
   "metadata": {},
   "outputs": [],
   "source": [
    "#split to train and test\n",
    "from sklearn.model_selection import train_test_split"
   ]
  },
  {
   "cell_type": "code",
   "execution_count": 9,
   "id": "ad9e7df9",
   "metadata": {},
   "outputs": [],
   "source": [
    "x_train, x_test, y_train, y_test = train_test_split(x, y, random_state=32)\n",
    "lx= len(x_train)"
   ]
  },
  {
   "cell_type": "code",
   "execution_count": 11,
   "id": "76976b12",
   "metadata": {},
   "outputs": [],
   "source": [
    "#Apply gradient descent\n",
    "#slope\n",
    "m = 0.1 #np.random.int\n",
    "#intercept\n",
    "c = 0.01\n",
    "#learning rate\n",
    "alpha = 0.01\n",
    "#no. of iterations\n",
    "n = 4000\n",
    "\n",
    "for i in range(n):\n",
    "    #dummy variables for slope and intercept\n",
    "    slope = 0\n",
    "    intercept = 0\n",
    "    for j in range(lx):#to take examples from training dataset\n",
    "        intercept = intercept + ((m*x_train[j] + c)- y_train[j])\n",
    "        slope = slope + ((m*x_train[j] + c) - y_train[j])*x_train[j]\n",
    "        \n",
    "    c = c - alpha * (intercept/lx)\n",
    "    m = m - alpha * (slope/lx)\n",
    "    "
   ]
  },
  {
   "cell_type": "code",
   "execution_count": 12,
   "id": "b1a70e2f",
   "metadata": {},
   "outputs": [
    {
     "name": "stdout",
     "output_type": "stream",
     "text": [
      "slope is 9661.770520278025\n",
      "intercept is 25227.29486229368\n"
     ]
    }
   ],
   "source": [
    "print(f\"slope is {m}\")\n",
    "print(f\"intercept is {c}\")"
   ]
  },
  {
   "cell_type": "code",
   "execution_count": 14,
   "id": "de9bca06",
   "metadata": {},
   "outputs": [
    {
     "data": {
      "text/plain": [
       "array([ 35855.2424346 ,  64840.55399543,  54212.60642313,  63874.37694341,\n",
       "        93825.86555627,  72569.97041166, 126675.88532521, 112183.2295448 ])"
      ]
     },
     "execution_count": 14,
     "metadata": {},
     "output_type": "execute_result"
    }
   ],
   "source": [
    "y_pred = np.dot(m, x_test)+c\n",
    "y_pred"
   ]
  },
  {
   "cell_type": "code",
   "execution_count": 15,
   "id": "fe21b931",
   "metadata": {},
   "outputs": [
    {
     "data": {
      "image/png": "[encoded data removed]",
      "text/plain": [
       "<Figure size 640x480 with 1 Axes>"
      ]
     },
     "metadata": {},
     "output_type": "display_data"
    }
   ],
   "source": [
    "plt.plot(x_test, y_pred, marker='o', color = 'blue', markerfacecolor='red', markersize=10, linestyle = 'dashed')\n",
    "\n",
    "plt.scatter(x,y,marker='o', color='red')\n",
    "plt.xlabel(\"yexp\")\n",
    "plt.ylabel(\"salary\")\n",
    "plt.title(\"Gradient Descent\")\n",
    "plt.show()"
   ]
  },
  {
   "cell_type": "code",
   "execution_count": 16,
   "id": "086ecb36",
   "metadata": {},
   "outputs": [],
   "source": [
    "from sklearn.metrics import mean_squared_error, r2_score, mean_absolute_error\n",
    "from sklearn.metrics import explained_variance_score"
   ]
  },
  {
   "cell_type": "code",
   "execution_count": 18,
   "id": "eb7e4604",
   "metadata": {},
   "outputs": [
    {
     "name": "stdout",
     "output_type": "stream",
     "text": [
      "32920447.21035915\n",
      "5737.634286912957\n",
      "5573.287725813661\n",
      "0.9610803330349375\n",
      "0.9550256304021368\n"
     ]
    }
   ],
   "source": [
    "print(mean_squared_error(y_test, y_pred))\n",
    "print(np.sqrt(mean_squared_error(y_test, y_pred)))\n",
    "print(mean_absolute_error(y_test, y_pred))\n",
    "print(explained_variance_score(y_test, y_pred))\n",
    "print(r2_score(y_test, y_pred))"
   ]
  },
  {
   "cell_type": "code",
   "execution_count": null,
   "id": "56852a62",
   "metadata": {},
   "outputs": [],
   "source": []
  }
 ],
 "metadata": {
  "kernelspec": {
   "display_name": "Python 3 (ipykernel)",
   "language": "python",
   "name": "python3"
  },
  "language_info": {
   "codemirror_mode": {
    "name": "ipython",
    "version": 3
   },
   "file_extension": ".py",
   "mimetype": "text/x-python",
   "name": "python",
   "nbconvert_exporter": "python",
   "pygments_lexer": "ipython3",
   "version": "3.11.4"
  }
 },
 "nbformat": 4,
 "nbformat_minor": 5
}
